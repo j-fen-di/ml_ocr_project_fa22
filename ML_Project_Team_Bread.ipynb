{
  "cells": [
    {
      "cell_type": "code",
      "execution_count": null,
      "metadata": {
        "colab": {
          "base_uri": "https://localhost:8080/"
        },
        "id": "7jHAzx6bQ0hG",
        "outputId": "2c1a8800-4688-4393-b10c-f374ef01682a"
      },
      "outputs": [
        {
          "name": "stdout",
          "output_type": "stream",
          "text": [
            "Looking in indexes: https://pypi.org/simple, https://us-python.pkg.dev/colab-wheels/public/simple/\n",
            "Requirement already satisfied: numpy in /usr/local/lib/python3.8/dist-packages (1.21.6)\n",
            "Looking in indexes: https://pypi.org/simple, https://us-python.pkg.dev/colab-wheels/public/simple/\n",
            "Requirement already satisfied: sklearn in /usr/local/lib/python3.8/dist-packages (0.0.post1)\n",
            "Looking in indexes: https://pypi.org/simple, https://us-python.pkg.dev/colab-wheels/public/simple/\n",
            "Requirement already satisfied: imagehash in /usr/local/lib/python3.8/dist-packages (4.3.1)\n",
            "Requirement already satisfied: numpy in /usr/local/lib/python3.8/dist-packages (from imagehash) (1.21.6)\n",
            "Requirement already satisfied: scipy in /usr/local/lib/python3.8/dist-packages (from imagehash) (1.7.3)\n",
            "Requirement already satisfied: PyWavelets in /usr/local/lib/python3.8/dist-packages (from imagehash) (1.3.0)\n",
            "Requirement already satisfied: pillow in /usr/local/lib/python3.8/dist-packages (from imagehash) (7.1.2)\n",
            "Looking in indexes: https://pypi.org/simple, https://us-python.pkg.dev/colab-wheels/public/simple/\n",
            "Requirement already satisfied: Pillow in /usr/local/lib/python3.8/dist-packages (7.1.2)\n",
            "Mounted at /content/drive\n"
          ]
        }
      ],
      "source": [
        "#Installations and Dependencies\n",
        "#Model 1: Logistic Regression\n",
        "#Model 2: CNN\n",
        "\n",
        "!pip install numpy\n",
        "!pip install sklearn\n",
        "!pip install imagehash\n",
        "!pip install Pillow\n",
        "\n",
        "import pandas as pd\n",
        "\n",
        "import numpy as np\n",
        "import matplotlib.pyplot as plt\n",
        "import matplotlib.image as img\n",
        "import imagehash\n",
        "import sklearn.metrics\n",
        "from sklearn.linear_model import LogisticRegression\n",
        "from sklearn.model_selection import train_test_split\n",
        "from sklearn.decomposition import PCA\n",
        "#from sklearn.metrics import accuracy_score, top_k_accuracy_score, mean_squared_error\n",
        "from sklearn.neighbors import KDTree\n",
        "from PIL import Image, ImageOps\n",
        "from google.colab import drive\n",
        "import pickle\n",
        "\n",
        "drive.mount(\"/content/drive\", force_remount=True)\n",
        "import os\n",
        "os.chdir(\"/content/drive/MyDrive/Team_Bread/\")\n",
        "\n",
        "\n"
      ]
    },
    {
      "cell_type": "code",
      "execution_count": null,
      "metadata": {
        "id": "-5QhfSs_mcb3"
      },
      "outputs": [],
      "source": [
        "#Data Set-up\n",
        "#data = np.loadtxt('data.csv')\n",
        "#y = last row of data"
      ]
    },
    {
      "cell_type": "code",
      "execution_count": null,
      "metadata": {
        "colab": {
          "base_uri": "https://localhost:8080/",
          "height": 235
        },
        "id": "Ahy6O-ABcBSY",
        "outputId": "e0626442-b387-4548-8601-6dddf3b5b36a"
      },
      "outputs": [
        {
          "ename": "NameError",
          "evalue": "ignored",
          "output_type": "error",
          "traceback": [
            "\u001b[0;31m---------------------------------------------------------------------------\u001b[0m",
            "\u001b[0;31mNameError\u001b[0m                                 Traceback (most recent call last)",
            "\u001b[0;32m<ipython-input-5-7762ffd3687c>\u001b[0m in \u001b[0;36m<module>\u001b[0;34m\u001b[0m\n\u001b[1;32m      1\u001b[0m \u001b[0;31m#before looping through images\u001b[0m\u001b[0;34m\u001b[0m\u001b[0;34m\u001b[0m\u001b[0;34m\u001b[0m\u001b[0m\n\u001b[0;32m----> 2\u001b[0;31m \u001b[0mdata\u001b[0m \u001b[0;34m=\u001b[0m \u001b[0mnp\u001b[0m\u001b[0;34m.\u001b[0m\u001b[0mzeros\u001b[0m\u001b[0;34m(\u001b[0m\u001b[0;34m(\u001b[0m\u001b[0mD\u001b[0m\u001b[0;34m,\u001b[0m\u001b[0;34m)\u001b[0m\u001b[0;34m)\u001b[0m\u001b[0;34m\u001b[0m\u001b[0;34m\u001b[0m\u001b[0m\n\u001b[0m\u001b[1;32m      3\u001b[0m \u001b[0;31m#with image\u001b[0m\u001b[0;34m\u001b[0m\u001b[0;34m\u001b[0m\u001b[0;34m\u001b[0m\u001b[0m\n\u001b[1;32m      4\u001b[0m \u001b[0mdata\u001b[0m \u001b[0;34m=\u001b[0m \u001b[0mnp\u001b[0m\u001b[0;34m.\u001b[0m\u001b[0mvstack\u001b[0m\u001b[0;34m(\u001b[0m\u001b[0;34m(\u001b[0m\u001b[0mdata\u001b[0m\u001b[0;34m,\u001b[0m \u001b[0mflat\u001b[0m\u001b[0;34m)\u001b[0m\u001b[0;34m)\u001b[0m\u001b[0;34m\u001b[0m\u001b[0;34m\u001b[0m\u001b[0m\n\u001b[1;32m      5\u001b[0m \u001b[0;31m#after all images are looped through\u001b[0m\u001b[0;34m\u001b[0m\u001b[0;34m\u001b[0m\u001b[0;34m\u001b[0m\u001b[0m\n",
            "\u001b[0;31mNameError\u001b[0m: name 'D' is not defined"
          ]
        }
      ],
      "source": [
        "#before looping through images\n",
        "data = np.zeros((D,))\n",
        "#with image\n",
        "data = np.vstack((data, flat))\n",
        "#after all images are looped through\n",
        "data = np.delete(data, 0, 0)\n",
        "\n"
      ]
    },
    {
      "cell_type": "code",
      "execution_count": null,
      "metadata": {
        "colab": {
          "base_uri": "https://localhost:8080/"
        },
        "id": "vviFzNxLGhDF",
        "outputId": "e9e60954-c48f-45b5-d86e-3b2879477c52"
      },
      "outputs": [
        {
          "name": "stdout",
          "output_type": "stream",
          "text": [
            "z\n",
            "eq\n",
            "9\n",
            "sub\n",
            "y\n",
            "add\n",
            "mul\n",
            "x\n",
            "dec\n",
            "div\n",
            "3\n",
            "2\n",
            "8\n",
            "6\n",
            "5\n",
            "4\n",
            "7\n",
            "1\n",
            "0\n",
            "/content/drive/MyDrive/Team_Bread/dataset\n",
            "['z', 'eq', '9', 'sub', 'y', 'add', 'mul', 'x', 'dec', 'div', '3', '2', '8', '6', '5', '4', '7', '1', '0']\n"
          ]
        }
      ],
      "source": [
        "#New dataset stuff ahhdghdgsgja\n",
        "\n",
        "## new dataset stuff \n",
        "#path = \"/content/drive/MyDrive/Team_Bread/\"\n",
        "\n",
        "#local_download_path = os.path.expanduser('/content/drive/MyDrive/Team_Bread/')\n",
        "#data = []\n",
        "\n",
        "#for filename in os.listdir(local_download_path):\n",
        "      # Your code comes here such as \n",
        "  #    print(filename)\n",
        "     # data.append(filename)\n",
        "#print(data)\n",
        "data = np.zeros((1600,))\n",
        "#with image\n",
        "\n",
        "#after all images are looped through\n",
        "\n",
        "\n",
        "path = \"/content/drive/MyDrive/Team_Bread/dataset\"\n",
        "\n",
        "  \n",
        "# Get the list of all files and directories\n",
        "# in current working directory\n",
        "labels = []\n",
        "foldernum = 0\n",
        "label_map = {}\n",
        "\n",
        "dir_list = os.listdir(path)\n",
        "for charFolder in dir_list:\n",
        "  print(charFolder)\n",
        "  label_map.update({foldernum: charFolder})\n",
        "  string = path + '/' + charFolder + \"/\"\n",
        "  for ImgFile in  os.listdir(string):\n",
        "    if (ImgFile.endswith(\"png\") | ImgFile.endswith(\"jpg\")):\n",
        "      str2 = string + ImgFile #gets path to particular img\n",
        "      img = Image.open(str2)\n",
        "      bw = ImageOps.grayscale(img) ##grayscaled img \n",
        "      bw = bw.resize((40,40))  #was 40,40\n",
        "      npdatatest = np.asarray(bw)\n",
        "      l = npdatatest.flatten()\n",
        "      data = np.vstack((data, l))\n",
        "      #print(l.shape)\n",
        "      #print(l.size)\n",
        "      labels.append(foldernum)\n",
        "  foldernum = foldernum + 1\n",
        "data = np.delete(data, 0, 0)\n",
        "\n",
        "\n",
        "print(path)\n",
        "print(dir_list)\n",
        "\n",
        "\n",
        "#path = \"/content/drive/MyDrive/Team_Bread/dataset\"\n",
        "#for charFile in os.listdir(path):\n",
        " # for image in charFile:\n",
        "\n",
        "\n",
        "\n",
        "\n",
        "\n",
        "\n",
        "\n"
      ]
    },
    {
      "cell_type": "code",
      "execution_count": null,
      "metadata": {
        "id": "CvLmmI41RnSN"
      },
      "outputs": [],
      "source": [
        "#Dimensionality Reduction - Model 1: Logistic Regression\n",
        "pca = PCA(n_components=150)\n",
        "imgs_reduced = pca.fit_transform(data)\n",
        "X = imgs_reduced\n",
        "#X.reshape(-1, 1)\n"
      ]
    },
    {
      "cell_type": "code",
      "execution_count": null,
      "metadata": {
        "id": "CMApt5vVmlRX"
      },
      "outputs": [],
      "source": [
        "#Show reduction\n"
      ]
    },
    {
      "cell_type": "code",
      "execution_count": null,
      "metadata": {
        "id": "ZODiZRtdR59W"
      },
      "outputs": [],
      "source": [
        "#Model 1: Logistic Regression\n",
        "#https://www.datacamp.com/tutorial/understanding-logistic-regression-python \n",
        "#class sklearn.linear_model.LogisticRegression(penalty='l2', *, dual=False, tol=0.0001, C=1.0, fit_intercept=True, intercept_scaling=1, \n",
        "#class_weight=None, random_state=None, solver='lbfgs', max_iter=100, multi_class='auto', verbose=0, warm_start=False, n_jobs=None, l1_ratio=None)\n",
        "#https://scikit-learn.org/stable/modules/generated/sklearn.linear_model.LogisticRegression.html#sklearn.linear_model.LogisticRegression\n",
        "M1 = LogisticRegression(C=1000000, solver=\"sag\", max_iter=1000)\n",
        "#spliting data\n",
        "#https://scikit-learn.org/stable/modules/generated/sklearn.model_selection.train_test_split.html\n",
        "label = np.array(labels)\n",
        "xtrain, xtest, ytrain, ytest = train_test_split(X, label, test_size=0.25, random_state=1)\n",
        "\n",
        "M1.fit(xtrain, ytrain)\n",
        "\n",
        "ypred = M1.predict(xtest)\n",
        "\n"
      ]
    },
    {
      "cell_type": "code",
      "execution_count": null,
      "metadata": {
        "colab": {
          "base_uri": "https://localhost:8080/"
        },
        "id": "btkOP7_7R9sF",
        "outputId": "a9a21ebf-88c8-44d7-b0a6-43a793bcc4dd"
      },
      "outputs": [
        {
          "name": "stdout",
          "output_type": "stream",
          "text": [
            "\n",
            "xtest.shape = (2518, 150)\n",
            "xtrain.shape = (7553, 150)\n",
            "ytest.shape = (2518,)\n",
            "ytrain.shape = (7553,)\n",
            "ypred.shape = (2518,)\n",
            "              precision    recall  f1-score   support\n",
            "\n",
            "           z       0.54      0.40      0.46        55\n",
            "          eq       0.56      0.57      0.57       163\n",
            "           9       0.48      0.40      0.43       139\n",
            "         sub       0.53      0.76      0.63       159\n",
            "           y       0.45      0.42      0.44       109\n",
            "         add       0.59      0.54      0.56       149\n",
            "         mul       0.59      0.64      0.61       122\n",
            "           x       0.31      0.33      0.32       113\n",
            "         dec       0.52      0.94      0.67       176\n",
            "         div       0.61      0.60      0.60       148\n",
            "           3       0.38      0.24      0.29       131\n",
            "           2       0.38      0.35      0.36       107\n",
            "           8       0.46      0.30      0.36       161\n",
            "           6       0.37      0.35      0.36       128\n",
            "           5       0.51      0.44      0.47       100\n",
            "           4       0.37      0.32      0.34       141\n",
            "           7       0.41      0.46      0.44       134\n",
            "           1       0.43      0.50      0.46       143\n",
            "           0       0.30      0.17      0.22       140\n",
            "\n",
            "    accuracy                           0.47      2518\n",
            "   macro avg       0.46      0.46      0.45      2518\n",
            "weighted avg       0.46      0.47      0.46      2518\n",
            "\n"
          ]
        }
      ],
      "source": [
        "#Results/Analysis/Plot - Model 1: Logistic Regression\n",
        "#https://scikit-learn.org/stable/modules/model_evaluation.html \n",
        "#accurcy, k top accurcy, rmse\n",
        "# plot accuracy vs. dataset size\n",
        "# plot loss vs. d\n",
        "print()\n",
        "print(\"xtest.shape = \" + str(xtest.shape))\n",
        "print(\"xtrain.shape = \" + str(xtrain.shape))\n",
        "print(\"ytest.shape = \" + str(ytest.shape))\n",
        "print(\"ytrain.shape = \" + str(ytrain.shape))\n",
        "print(\"ypred.shape = \" + str(ypred.shape))\n",
        "#loss = sklearn.metrics.mean_absolute_error(ytest, ypred)\n",
        "#accuracy = sklearn.metrics.accuracy_score(ytest, ypred)\n",
        "#kaccuracy = top_k_accuracy_score(ytest, ypred,)\n",
        "print(sklearn.metrics.classification_report(ytest, ypred, target_names=dir_list))\n",
        "\n",
        "#cmatr = sklearn.metrics.confusion_matrix(ytest, ypred, labels=dir_list)\n",
        "#disp = sklearn.metrics.ConfusionMatrixDisplay(confusion_matrix=cmatr, display_labels=dir_list)\n",
        "#disp.plot()\n",
        "#plt.show()\n",
        "\n",
        "#fig1, plt_loss = plt.subplots()\n",
        "#fig2, plt_accuracy = plt.subplots()\n",
        "#fig3, plt_kaccuracy = plt.subplots()\n",
        "\n",
        "#plt_loss.plot(1, loss, 'b')\n",
        "#plt_loss.set_xlabel('Epoch #')\n",
        "#plt_loss.set_ylabel('Loss')\n",
        "#plt_loss.set_title('Model Loss')\n",
        "\n",
        "#plt_accuracy.plot(range(len(accuracy)), accuracy, 'b')\n",
        "#plt_accuracy.set_xlabel('Dataset Size')\n",
        "#plt_accuracy.set_ylabel('Accuracy')\n",
        "#plt_accuracy.set_title('Model Accuracy')\n",
        "\n",
        "#plt_kaccuracy.plot(range(len(kaccuracy)), kaccuracy, 'b')\n",
        "#plt_kaccuracy.set_xlabel('Dataset Size')\n",
        "#plt_kaccuracy.set_ylabel('Top-K Accuracy')\n",
        "#plt_kaccuracy.set_title('Model Top-K Accuracy')\n"
      ]
    },
    {
      "cell_type": "markdown",
      "metadata": {
        "id": "R37OIm9Fe_Gk"
      },
      "source": [
        "https://www.geeksforgeeks.org/how-to-convert-an-image-to-numpy-array-and-saveit-to-csv-file-using-python/\n",
        "https://www.w3schools.com/python/pandas/pandas_cleaning.asp\n"
      ]
    },
    {
      "cell_type": "code",
      "execution_count": null,
      "metadata": {
        "id": "ayoAeKSNzfWi"
      },
      "outputs": [],
      "source": [
        "from sklearn.linear_model import LogisticRegression\n"
      ]
    },
    {
      "cell_type": "code",
      "execution_count": null,
      "metadata": {
        "id": "yWr2c533S_WT"
      },
      "outputs": [],
      "source": [
        "#Dimensionality Reduction - Model 2: CNN\n",
        "#Do we need this?"
      ]
    },
    {
      "cell_type": "code",
      "execution_count": null,
      "metadata": {
        "id": "kGI6e0LoTFdq"
      },
      "outputs": [],
      "source": [
        "#Model 2: CNN\n",
        "\"\"\"\n",
        "layers: (taken from hw4)\n",
        "INPUT - CONV - CONV - MAXPOOL - DROPOUT - CONV - CONV - MAXPOOL - DROPOUT - FC1 - DROPOUT - FC2 - DROPOUT - FC3\n",
        "\"\"\""
      ]
    },
    {
      "cell_type": "code",
      "execution_count": null,
      "metadata": {
        "colab": {
          "base_uri": "https://localhost:8080/"
        },
        "id": "gYgm3sSCa8Ro",
        "outputId": "9cec5c66-0997-4ca5-c01f-04d6f98d9dbb"
      },
      "outputs": [
        {
          "name": "stdout",
          "output_type": "stream",
          "text": [
            "Looking in indexes: https://pypi.org/simple, https://us-python.pkg.dev/colab-wheels/public/simple/\n",
            "Requirement already satisfied: tensorflow in /usr/local/lib/python3.8/dist-packages (2.9.2)\n",
            "Requirement already satisfied: tensorflow-estimator<2.10.0,>=2.9.0rc0 in /usr/local/lib/python3.8/dist-packages (from tensorflow) (2.9.0)\n",
            "Requirement already satisfied: numpy>=1.20 in /usr/local/lib/python3.8/dist-packages (from tensorflow) (1.21.6)\n",
            "Requirement already satisfied: wrapt>=1.11.0 in /usr/local/lib/python3.8/dist-packages (from tensorflow) (1.14.1)\n",
            "Requirement already satisfied: typing-extensions>=3.6.6 in /usr/local/lib/python3.8/dist-packages (from tensorflow) (4.1.1)\n",
            "Requirement already satisfied: tensorboard<2.10,>=2.9 in /usr/local/lib/python3.8/dist-packages (from tensorflow) (2.9.1)\n",
            "Requirement already satisfied: google-pasta>=0.1.1 in /usr/local/lib/python3.8/dist-packages (from tensorflow) (0.2.0)\n",
            "Requirement already satisfied: setuptools in /usr/local/lib/python3.8/dist-packages (from tensorflow) (57.4.0)\n",
            "Requirement already satisfied: termcolor>=1.1.0 in /usr/local/lib/python3.8/dist-packages (from tensorflow) (2.1.1)\n",
            "Requirement already satisfied: opt-einsum>=2.3.2 in /usr/local/lib/python3.8/dist-packages (from tensorflow) (3.3.0)\n",
            "Requirement already satisfied: gast<=0.4.0,>=0.2.1 in /usr/local/lib/python3.8/dist-packages (from tensorflow) (0.4.0)\n",
            "Requirement already satisfied: flatbuffers<2,>=1.12 in /usr/local/lib/python3.8/dist-packages (from tensorflow) (1.12)\n",
            "Requirement already satisfied: absl-py>=1.0.0 in /usr/local/lib/python3.8/dist-packages (from tensorflow) (1.3.0)\n",
            "Requirement already satisfied: astunparse>=1.6.0 in /usr/local/lib/python3.8/dist-packages (from tensorflow) (1.6.3)\n",
            "Requirement already satisfied: grpcio<2.0,>=1.24.3 in /usr/local/lib/python3.8/dist-packages (from tensorflow) (1.50.0)\n",
            "Requirement already satisfied: h5py>=2.9.0 in /usr/local/lib/python3.8/dist-packages (from tensorflow) (3.1.0)\n",
            "Requirement already satisfied: keras-preprocessing>=1.1.1 in /usr/local/lib/python3.8/dist-packages (from tensorflow) (1.1.2)\n",
            "Requirement already satisfied: protobuf<3.20,>=3.9.2 in /usr/local/lib/python3.8/dist-packages (from tensorflow) (3.19.6)\n",
            "Requirement already satisfied: keras<2.10.0,>=2.9.0rc0 in /usr/local/lib/python3.8/dist-packages (from tensorflow) (2.9.0)\n",
            "Requirement already satisfied: six>=1.12.0 in /usr/local/lib/python3.8/dist-packages (from tensorflow) (1.15.0)\n",
            "Requirement already satisfied: tensorflow-io-gcs-filesystem>=0.23.1 in /usr/local/lib/python3.8/dist-packages (from tensorflow) (0.28.0)\n",
            "Requirement already satisfied: packaging in /usr/local/lib/python3.8/dist-packages (from tensorflow) (21.3)\n",
            "Requirement already satisfied: libclang>=13.0.0 in /usr/local/lib/python3.8/dist-packages (from tensorflow) (14.0.6)\n",
            "Requirement already satisfied: wheel<1.0,>=0.23.0 in /usr/local/lib/python3.8/dist-packages (from astunparse>=1.6.0->tensorflow) (0.38.4)\n",
            "Requirement already satisfied: google-auth-oauthlib<0.5,>=0.4.1 in /usr/local/lib/python3.8/dist-packages (from tensorboard<2.10,>=2.9->tensorflow) (0.4.6)\n",
            "Requirement already satisfied: markdown>=2.6.8 in /usr/local/lib/python3.8/dist-packages (from tensorboard<2.10,>=2.9->tensorflow) (3.4.1)\n",
            "Requirement already satisfied: google-auth<3,>=1.6.3 in /usr/local/lib/python3.8/dist-packages (from tensorboard<2.10,>=2.9->tensorflow) (2.14.1)\n",
            "Requirement already satisfied: tensorboard-plugin-wit>=1.6.0 in /usr/local/lib/python3.8/dist-packages (from tensorboard<2.10,>=2.9->tensorflow) (1.8.1)\n",
            "Requirement already satisfied: werkzeug>=1.0.1 in /usr/local/lib/python3.8/dist-packages (from tensorboard<2.10,>=2.9->tensorflow) (1.0.1)\n",
            "Requirement already satisfied: tensorboard-data-server<0.7.0,>=0.6.0 in /usr/local/lib/python3.8/dist-packages (from tensorboard<2.10,>=2.9->tensorflow) (0.6.1)\n",
            "Requirement already satisfied: requests<3,>=2.21.0 in /usr/local/lib/python3.8/dist-packages (from tensorboard<2.10,>=2.9->tensorflow) (2.23.0)\n",
            "Requirement already satisfied: cachetools<6.0,>=2.0.0 in /usr/local/lib/python3.8/dist-packages (from google-auth<3,>=1.6.3->tensorboard<2.10,>=2.9->tensorflow) (5.2.0)\n",
            "Requirement already satisfied: rsa<5,>=3.1.4 in /usr/local/lib/python3.8/dist-packages (from google-auth<3,>=1.6.3->tensorboard<2.10,>=2.9->tensorflow) (4.9)\n",
            "Requirement already satisfied: pyasn1-modules>=0.2.1 in /usr/local/lib/python3.8/dist-packages (from google-auth<3,>=1.6.3->tensorboard<2.10,>=2.9->tensorflow) (0.2.8)\n",
            "Requirement already satisfied: requests-oauthlib>=0.7.0 in /usr/local/lib/python3.8/dist-packages (from google-auth-oauthlib<0.5,>=0.4.1->tensorboard<2.10,>=2.9->tensorflow) (1.3.1)\n",
            "Requirement already satisfied: importlib-metadata>=4.4 in /usr/local/lib/python3.8/dist-packages (from markdown>=2.6.8->tensorboard<2.10,>=2.9->tensorflow) (4.13.0)\n",
            "Requirement already satisfied: zipp>=0.5 in /usr/local/lib/python3.8/dist-packages (from importlib-metadata>=4.4->markdown>=2.6.8->tensorboard<2.10,>=2.9->tensorflow) (3.10.0)\n",
            "Requirement already satisfied: pyasn1<0.5.0,>=0.4.6 in /usr/local/lib/python3.8/dist-packages (from pyasn1-modules>=0.2.1->google-auth<3,>=1.6.3->tensorboard<2.10,>=2.9->tensorflow) (0.4.8)\n",
            "Requirement already satisfied: chardet<4,>=3.0.2 in /usr/local/lib/python3.8/dist-packages (from requests<3,>=2.21.0->tensorboard<2.10,>=2.9->tensorflow) (3.0.4)\n",
            "Requirement already satisfied: certifi>=2017.4.17 in /usr/local/lib/python3.8/dist-packages (from requests<3,>=2.21.0->tensorboard<2.10,>=2.9->tensorflow) (2022.9.24)\n",
            "Requirement already satisfied: urllib3!=1.25.0,!=1.25.1,<1.26,>=1.21.1 in /usr/local/lib/python3.8/dist-packages (from requests<3,>=2.21.0->tensorboard<2.10,>=2.9->tensorflow) (1.24.3)\n",
            "Requirement already satisfied: idna<3,>=2.5 in /usr/local/lib/python3.8/dist-packages (from requests<3,>=2.21.0->tensorboard<2.10,>=2.9->tensorflow) (2.10)\n",
            "Requirement already satisfied: oauthlib>=3.0.0 in /usr/local/lib/python3.8/dist-packages (from requests-oauthlib>=0.7.0->google-auth-oauthlib<0.5,>=0.4.1->tensorboard<2.10,>=2.9->tensorflow) (3.2.2)\n",
            "Requirement already satisfied: pyparsing!=3.0.5,>=2.0.2 in /usr/local/lib/python3.8/dist-packages (from packaging->tensorflow) (3.0.9)\n"
          ]
        }
      ],
      "source": [
        "!pip install tensorflow\n",
        "\n",
        "import tensorflow as tf\n",
        "import tensorflow_datasets as tfds\n",
        "from keras.datasets import cifar10\n",
        "from sklearn.model_selection import train_test_split\n",
        "from tensorflow.keras.models import Sequential\n",
        "from tensorflow.keras.layers import Conv2D, MaxPooling2D, Flatten, Dense, Activation, Dropout\n",
        "from tensorflow.keras.layers import LeakyReLU\n",
        "from tensorflow.keras.layers import BatchNormalization\n",
        "from sklearn.utils import shuffle\n",
        "import sklearn.metrics\n",
        "import numpy as np\n",
        "import matplotlib.pyplot as plt\n"
      ]
    },
    {
      "cell_type": "code",
      "execution_count": null,
      "metadata": {
        "id": "u979MfisaQ7W"
      },
      "outputs": [],
      "source": [
        "def create_net(self):\n",
        "        '''\n",
        "        In this function you are going to build a convolutional neural network based on TF Keras.\n",
        "        First, use Sequential() to set the inference features on this model. \n",
        "        Then, use model.add() to build layers in your own model\n",
        "        Return: model\n",
        "        '''\n",
        "        \n",
        "        model = tf.keras.Sequential()\n",
        "        model.add(tf.keras.layers.Conv2D(8, 3, padding='same', input_shape=(40,40,3)))\n",
        "        model.add(tf.keras.layers.LeakyReLU(alpha=self.init_lr))\n",
        "        model.add(tf.keras.layers.Conv2D(32, 3, padding='same'))\n",
        "        model.add(tf.keras.layers.LeakyReLU(alpha=self.init_lr))\n",
        "        model.add(tf.keras.layers.MaxPooling2D(pool_size=(2,2)))\n",
        "        model.add(tf.keras.layers.Dropout(.3))\n",
        "        model.add(tf.keras.layers.Conv2D(32, 3, padding='same'))\n",
        "        model.add(tf.keras.layers.LeakyReLU(alpha=self.init_lr))\n",
        "        model.add(tf.keras.layers.Conv2D(64, 3, activation = 'relu', padding='same'))\n",
        "        model.add(tf.keras.layers.LeakyReLU(alpha=self.init_lr))\n",
        "        model.add(tf.keras.layers.MaxPooling2D(pool_size=(2,2)))\n",
        "        model.add(tf.keras.layers.Dropout(.3))\n",
        "        model.add(Flatten())\n",
        "        model.add(tf.keras.layers.Dense(256))\n",
        "        model.add(tf.keras.layers.LeakyReLU(alpha=self.init_lr))\n",
        "        model.add(tf.keras.layers.Dropout(.5))\n",
        "        model.add(tf.keras.layers.Dense(128))\n",
        "        model.add(tf.keras.layers.LeakyReLU(alpha=self.init_lr))\n",
        "        model.add(tf.keras.layers.Dropout(.5))\n",
        "        model.add(tf.keras.layers.Dense(10))\n",
        "        model.add(tf.keras.layers.Softmax())\n",
        "        self.model = model\n",
        "    \n",
        "        return model"
      ]
    },
    {
      "cell_type": "code",
      "execution_count": null,
      "metadata": {
        "colab": {
          "background_save": true,
          "base_uri": "https://localhost:8080/"
        },
        "id": "4BwhKR-G0637",
        "outputId": "5dd2991c-6bbc-410d-c9ef-b2f978657570"
      },
      "outputs": [
        {
          "name": "stdout",
          "output_type": "stream",
          "text": [
            "Found 10071 files belonging to 19 classes.\n",
            "Using 8057 files for training.\n",
            "Found 10071 files belonging to 19 classes.\n",
            "Using 2014 files for validation.\n",
            "Epoch 1/5\n",
            "252/252 [==============================] - 1077s 4s/step - loss: 2.4722 - accuracy: 0.2528 - val_loss: 1.5408 - val_accuracy: 0.5745\n",
            "Epoch 2/5\n",
            "252/252 [==============================] - 346s 1s/step - loss: 1.3962 - accuracy: 0.5747 - val_loss: 0.9162 - val_accuracy: 0.7418\n",
            "Epoch 3/5\n",
            "252/252 [==============================] - 348s 1s/step - loss: 0.9731 - accuracy: 0.6874 - val_loss: 0.7003 - val_accuracy: 0.7974\n",
            "Epoch 4/5\n",
            "252/252 [==============================] - 343s 1s/step - loss: 0.7446 - accuracy: 0.7618 - val_loss: 0.5121 - val_accuracy: 0.8550\n",
            "Epoch 5/5\n",
            "252/252 [==============================] - 345s 1s/step - loss: 0.6091 - accuracy: 0.8049 - val_loss: 0.4440 - val_accuracy: 0.8759\n"
          ]
        }
      ],
      "source": [
        "path = '/content/drive/MyDrive/Team_Bread/dataset'\n",
        "#data = tf.keras.utils.image_dataset_from_directory(directory = path, labels = 'inferred')\n",
        "#training_size = int(10071 * .8)\n",
        "#ds_train = data.take(training_size) \n",
        "#ds_test = data.skip(training_size)\n",
        "epochs = 5\n",
        "batch_size = 32\n",
        "img_height = 180\n",
        "img_width = 180\n",
        "train_ds = tf.keras.utils.image_dataset_from_directory(\n",
        "  path,\n",
        "  validation_split=0.2,\n",
        "  subset=\"training\",\n",
        "  seed=123,\n",
        "  image_size=(img_height, img_width),\n",
        "  batch_size=batch_size)\n",
        "\n",
        "test_ds = tf.keras.utils.image_dataset_from_directory(\n",
        "  path,\n",
        "  validation_split=0.2,\n",
        "  subset=\"validation\",\n",
        "  seed=123,\n",
        "  image_size=(img_height, img_width),\n",
        "  batch_size=batch_size)\n",
        "\n",
        "normalization_layer = tf.keras.layers.Rescaling(1./255)\n",
        "normalized_ds = train_ds.map(lambda x, y: (normalization_layer(x), y))\n",
        "image_batch, labels_batch = next(iter(normalized_ds))\n",
        "\n",
        "AUTOTUNE = tf.data.AUTOTUNE\n",
        "\n",
        "train_ds = train_ds.cache().prefetch(buffer_size=AUTOTUNE)\n",
        "test_ds = test_ds.cache().prefetch(buffer_size=AUTOTUNE)\n",
        "\n",
        "num_classes = 19\n",
        "\n",
        "model = tf.keras.Sequential([\n",
        "  tf.keras.layers.Rescaling(1./255),\n",
        "  tf.keras.layers.Conv2D(32, 3, activation='relu'),\n",
        "  tf.keras.layers.MaxPooling2D(),\n",
        "  tf.keras.layers.Dropout(.3),\n",
        "  tf.keras.layers.Conv2D(32, 3, activation='relu'),\n",
        "  tf.keras.layers.MaxPooling2D(),\n",
        "  tf.keras.layers.Dropout(.3),\n",
        "  tf.keras.layers.Conv2D(32, 3, activation='relu'),\n",
        "  tf.keras.layers.MaxPooling2D(),\n",
        "  tf.keras.layers.Dropout(.3),\n",
        "  tf.keras.layers.Flatten(),\n",
        "  tf.keras.layers.Dense(128, activation='relu'),\n",
        "  tf.keras.layers.Dropout(.5),\n",
        "  tf.keras.layers.Dense(num_classes)\n",
        "])\n",
        "\n",
        "model.compile(\n",
        "  optimizer='adam',\n",
        "  loss=tf.keras.losses.SparseCategoricalCrossentropy(from_logits=True),\n",
        "  metrics=['accuracy'])\n",
        "\n",
        "history = model.fit(\n",
        "  train_ds,\n",
        "  validation_data=test_ds,\n",
        "  epochs=epochs\n",
        ")"
      ]
    },
    {
      "cell_type": "code",
      "execution_count": null,
      "metadata": {
        "colab": {
          "base_uri": "https://localhost:8080/",
          "height": 1000
        },
        "id": "YxyZu_TqTHfZ",
        "outputId": "f5760e23-1425-40fd-a488-f578ed7ce8fe"
      },
      "outputs": [
        {
          "data": {
            "image/png": "[encoded data removed]",
            "text/plain": [
              "<Figure size 576x576 with 2 Axes>"
            ]
          },
          "metadata": {},
          "output_type": "display_data"
        },
        {
          "name": "stdout",
          "output_type": "stream",
          "text": [
            "63/63 [==============================] - 24s 381ms/step\n"
          ]
        },
        {
          "data": {
            "image/png": "[encoded data removed]",
            "text/plain": [
              "<Figure size 720x720 with 2 Axes>"
            ]
          },
          "metadata": {},
          "output_type": "display_data"
        },
        {
          "name": "stdout",
          "output_type": "stream",
          "text": [
            "              precision    recall  f1-score   support\n",
            "\n",
            "           z       0.79      0.88      0.83       118\n",
            "          eq       0.91      0.90      0.91       102\n",
            "           9       0.90      0.83      0.86        84\n",
            "         sub       0.82      0.85      0.84       114\n",
            "           y       0.88      0.84      0.86       121\n",
            "         add       0.87      0.87      0.87        76\n",
            "         mul       0.83      0.71      0.77       127\n",
            "           x       0.85      0.88      0.87       111\n",
            "         dec       0.78      0.73      0.76       112\n",
            "         div       0.71      0.77      0.74       104\n",
            "           3       0.95      0.94      0.94       108\n",
            "           2       0.97      0.98      0.98       124\n",
            "           8       0.92      0.87      0.90       124\n",
            "           6       0.93      0.86      0.89       132\n",
            "           5       0.91      0.92      0.92       126\n",
            "           4       0.87      0.98      0.92       133\n",
            "           7       0.82      0.86      0.84        80\n",
            "           1       0.84      0.87      0.86        78\n",
            "           0       0.95      0.93      0.94        40\n",
            "\n",
            "    accuracy                           0.87      2014\n",
            "   macro avg       0.87      0.87      0.87      2014\n",
            "weighted avg       0.87      0.87      0.87      2014\n",
            "\n"
          ]
        }
      ],
      "source": [
        "#Results/Analysis/Plot - Model 2: CNN\n",
        "acc = history.history['accuracy']\n",
        "val_acc = history.history['val_accuracy']\n",
        "\n",
        "loss = history.history['loss']\n",
        "val_loss = history.history['val_loss']\n",
        "\n",
        "epochs_range = range(epochs)\n",
        "\n",
        "plt.figure(figsize=(8, 8))\n",
        "plt.subplot(1, 2, 1)\n",
        "plt.plot(epochs_range, acc, label='Training Accuracy')\n",
        "plt.plot(epochs_range, val_acc, label='Validation Accuracy')\n",
        "plt.xlabel('Epoch #')\n",
        "plt.ylabel('Accuracy')\n",
        "plt.legend(loc='lower right')\n",
        "plt.title('Training and Validation Accuracy')\n",
        "\n",
        "plt.subplot(1, 2, 2)\n",
        "plt.plot(epochs_range, loss, label='Training Loss')\n",
        "plt.plot(epochs_range, val_loss, label='Validation Loss')\n",
        "plt.xlabel('Epoch #')\n",
        "plt.ylabel('Loss')\n",
        "plt.legend(loc='upper right')\n",
        "plt.title('Training and Validation Loss')\n",
        "plt.show()\n",
        "\n",
        "dir_list = ['z', 'eq', '9', 'sub', 'y', 'add', 'mul', 'x', 'dec', 'div', '3', '2', '8', '6', '5', '4', '7', '1', '0']\n",
        "\n",
        "y_pred = model.predict(test_ds)\n",
        "y_pred = tf.nn.softmax(y_pred)\n",
        "y_pred = tf.argmax(y_pred, axis=1)\n",
        "y_true = tf.concat([y for x, y in test_ds], axis=0)\n",
        "matr = sklearn.metrics.confusion_matrix(y_true, y_pred)\n",
        "disp = sklearn.metrics.ConfusionMatrixDisplay(confusion_matrix=matr, display_labels=dir_list)\n",
        "fig, ax = plt.subplots(figsize=(10,10))\n",
        "disp.plot(ax=ax, colorbar=False)\n",
        "# Deactivate default colorbar\n",
        "\n",
        "# Adding custom colorbar\n",
        "cax = fig.add_axes([ax.get_position().x1+0.01,ax.get_position().y0,0.02,ax.get_position().height])\n",
        "plt.colorbar(disp.im_,  cax=cax)\n",
        "plt.show()\n",
        "\n",
        "print(sklearn.metrics.classification_report(y_true, y_pred, target_names=dir_list))"
      ]
    },
    {
      "cell_type": "code",
      "execution_count": null,
      "metadata": {
        "id": "aw_9biGhqcM7"
      },
      "outputs": [],
      "source": [
        "#Comparison"
      ]
    }
  ],
  "metadata": {
    "colab": {
      "provenance": []
    },
    "kernelspec": {
      "display_name": "Python 3",
      "name": "python3"
    },
    "language_info": {
      "name": "python"
    }
  },
  "nbformat": 4,
  "nbformat_minor": 0
}